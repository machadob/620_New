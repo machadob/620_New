{
 "cells": [
  {
   "cell_type": "code",
   "execution_count": null,
   "metadata": {
    "collapsed": true
   },
   "outputs": [],
   "source": [
    "# Import the required python modules.\n",
    "import numpy as np\n",
    "import networkx as nx\n",
    "import networkx.algorithms.bipartite as bipartite\n",
    "%matplotlib inline"
   ]
  },
  {
   "cell_type": "code",
   "execution_count": null,
   "metadata": {
    "collapsed": true
   },
   "outputs": [],
   "source": [
    "# In this analysis we will load the data file (davis.dat) from the disk and parse it to create the bipartite graph.\n",
    "# We will then split the graph into the two sub-graphs, one for Women and one for the Meetings.\n",
    "# We will then generate metrics on the seperate graphs."
   ]
  },
  {
   "cell_type": "code",
   "execution_count": null,
   "metadata": {
    "collapsed": false
   },
   "outputs": [],
   "source": [
    "# Read the data file from the disk. Update the path as appropriate to your machine.\n",
    "dataFile = '/Users/burton/000-Semester_06_CUNY/620_Web_Analytics/Week_06/davis.dat'\n",
    "# Open the raw data file for reading.\n",
    "f = open(dataFile)\n",
    "# The following boolean flags are used to determine the begining of various sections of the file like ROWS, COLUMNS etc.\n",
    "rowsFound = False\n",
    "columnsFound = False\n",
    "dataFound = False\n",
    "# The following lists will store the data for the ROWS, COLUMNS and DATA, which will be used to create our graph.\n",
    "rowLabels = []\n",
    "columnLables = []\n",
    "data = []\n",
    "# We now iterate over the file to fill in the lists defined above.\n",
    "for line in iter(f):\n",
    "    if ((\"ROW LABELS:\" not in line) and (not rowsFound)):\n",
    "       continue\n",
    "    rowsFound = True\n",
    "    if ((\"COLUMN LABELS:\" not in line) and (not columnsFound)):\n",
    "        if(\"ROW LABELS:\" not in line):\n",
    "            rowLabels.append(line.strip())\n",
    "        continue\n",
    "    columnsFound = True\n",
    "    if ((\"DATA:\" not in line) and (not dataFound)):\n",
    "        if(\"COLUMN LABELS:\" not in line):\n",
    "            columnLables.append(line.strip())\n",
    "        continue\n",
    "    dataFound = True\n",
    "    if(\"DATA:\" not in line):\n",
    "        data.append(line.strip())\n",
    "f.close()"
   ]
  },
  {
   "cell_type": "code",
   "execution_count": null,
   "metadata": {
    "collapsed": true
   },
   "outputs": [],
   "source": [
    "# In the next few sections we will print out the contents of the ROWS, COLUMNS and DATA sections from the lists that\n",
    "# we created by reading the data file."
   ]
  },
  {
   "cell_type": "code",
   "execution_count": null,
   "metadata": {
    "collapsed": false
   },
   "outputs": [],
   "source": [
    "# Print  the Row labels (Women)\n",
    "rowLabels"
   ]
  },
  {
   "cell_type": "code",
   "execution_count": null,
   "metadata": {
    "collapsed": false
   },
   "outputs": [],
   "source": [
    "# Print  the Column labels (Meetings)\n",
    "columnLables"
   ]
  },
  {
   "cell_type": "code",
   "execution_count": null,
   "metadata": {
    "collapsed": false
   },
   "outputs": [],
   "source": [
    "# Print the data for the relationship between the Rows(Women) and the Columns(Meetings)\n",
    "data"
   ]
  },
  {
   "cell_type": "code",
   "execution_count": null,
   "metadata": {
    "collapsed": true
   },
   "outputs": [],
   "source": [
    "# We will now create the main bipartite graph from the lists that we created above by reading the file."
   ]
  },
  {
   "cell_type": "code",
   "execution_count": null,
   "metadata": {
    "collapsed": false
   },
   "outputs": [],
   "source": [
    "# The following section creates the main bipartite graph by iterating through the Rows, Columns and Data.\n",
    "main_graph = nx.Graph()\n",
    "main_graph.add_nodes_from(rowLabels, bipartite=0)\n",
    "main_graph.add_nodes_from(columnLables, bipartite=1)\n",
    "for i in range(len(rowLabels)):\n",
    "    data_List = data[i].split(' ')\n",
    "    for  j in range(len(data_List)):\n",
    "        if(\"1\" in data_List[j]):\n",
    "            main_graph.add_edge(rowLabels[i],columnLables[j])"
   ]
  },
  {
   "cell_type": "code",
   "execution_count": null,
   "metadata": {
    "collapsed": false
   },
   "outputs": [],
   "source": [
    "# Draw the main bipartite graph.\n",
    "nx.draw_spring(main_graph, with_labels=True, node_size=600)"
   ]
  },
  {
   "cell_type": "code",
   "execution_count": null,
   "metadata": {
    "collapsed": false
   },
   "outputs": [],
   "source": [
    "# We will now separate the Meeting nodes and the Women nodes from the main bipartite graph.\n",
    "women_nodes, meeting_nodes = bipartite.sets(main_graph)"
   ]
  },
  {
   "cell_type": "code",
   "execution_count": null,
   "metadata": {
    "collapsed": false
   },
   "outputs": [],
   "source": [
    "# Print the seperated Women nodes.\n",
    "list(women_nodes)"
   ]
  },
  {
   "cell_type": "code",
   "execution_count": null,
   "metadata": {
    "collapsed": false
   },
   "outputs": [],
   "source": [
    "# We now create the Women graph from the seperated woman nodes.\n",
    "women_graph = bipartite.projected_graph(main_graph, women_nodes)"
   ]
  },
  {
   "cell_type": "code",
   "execution_count": null,
   "metadata": {
    "collapsed": false
   },
   "outputs": [],
   "source": [
    "# We will now draw the Women grpah.\n",
    "nx.draw_spring(women_graph, with_labels=True, node_size=600)"
   ]
  },
  {
   "cell_type": "code",
   "execution_count": null,
   "metadata": {
    "collapsed": false
   },
   "outputs": [],
   "source": [
    "# Following are the degree centrality vlaues for the Women.\n",
    "nx.degree_centrality(women_graph)"
   ]
  },
  {
   "cell_type": "code",
   "execution_count": null,
   "metadata": {
    "collapsed": false
   },
   "outputs": [],
   "source": [
    "# Following are the between centrality vlaues for the Women.\n",
    "nx.betweenness_centrality(women_graph)"
   ]
  },
  {
   "cell_type": "code",
   "execution_count": null,
   "metadata": {
    "collapsed": false
   },
   "outputs": [],
   "source": [
    "# Following are the closeness centrality vlaues for the Women.\n",
    "nx.closeness_centrality(women_graph)"
   ]
  },
  {
   "cell_type": "code",
   "execution_count": null,
   "metadata": {
    "collapsed": false
   },
   "outputs": [],
   "source": [
    "# We now count the number of shared contacts for each woman.\n",
    "print(\"No. of Friends, Member\")\n",
    "for woman in women_nodes:\n",
    "    print('%d %s' % (women_graph.degree(woman),woman))"
   ]
  },
  {
   "cell_type": "code",
   "execution_count": null,
   "metadata": {
    "collapsed": false
   },
   "outputs": [],
   "source": [
    "# We now count the number of Friend meetings attended by each woman.\n",
    "print(\"No. of Friend meetings, Member\")\n",
    "weighted_women_graph = bipartite.weighted_projected_graph(main_graph, women_nodes)\n",
    "for woman in women_nodes:\n",
    "    print('%d %s' % (weighted_women_graph.degree(woman,weight='weight'),woman))"
   ]
  },
  {
   "cell_type": "code",
   "execution_count": null,
   "metadata": {
    "collapsed": true
   },
   "outputs": [],
   "source": [
    "# From the above output we can observer that the higher the number of friends that a member has, the greater the\n",
    "# the number of meetings she attends. For e.g., THERESA has 57 friends and she attends one of  the highest number (17)\n",
    "# of meetings, while OLIVIA has 14 friends and she just attends 12 meetings.\n",
    "# From the above analysis we can see that EVELYN, THERESA, VERNE, HELEN, SYLVIA and RUTH have the highest number of\n",
    "# shared contacts and they also have the higher measures of centrality that were shown in the earlier calculations \n",
    "# above. They are also the members who attend the highest number of meetings. This is what we could expect in a social\n",
    "# setting.\n",
    "# This is our conclusion."
   ]
  },
  {
   "cell_type": "code",
   "execution_count": null,
   "metadata": {
    "collapsed": true
   },
   "outputs": [],
   "source": [
    "# Below are similar metrics for the Meeting nodes. These are just provided for descriptive reasons and completion."
   ]
  },
  {
   "cell_type": "code",
   "execution_count": null,
   "metadata": {
    "collapsed": false
   },
   "outputs": [],
   "source": [
    "# Print the seperated Meeting nodes.\n",
    "list(meeting_nodes)"
   ]
  },
  {
   "cell_type": "code",
   "execution_count": null,
   "metadata": {
    "collapsed": false
   },
   "outputs": [],
   "source": [
    "# We now create the Meetings graph from the seperated Meeting nodes.\n",
    "meeting_graph = bipartite.projected_graph(main_graph, meeting_nodes)"
   ]
  },
  {
   "cell_type": "code",
   "execution_count": null,
   "metadata": {
    "collapsed": false
   },
   "outputs": [],
   "source": [
    "# We will now draw the Meetings grpah.\n",
    "nx.draw_spring(meeting_graph, with_labels=True, node_size=600)"
   ]
  },
  {
   "cell_type": "code",
   "execution_count": null,
   "metadata": {
    "collapsed": false
   },
   "outputs": [],
   "source": [
    "# Following are the degree centrality vlaues for the Meetings.\n",
    "nx.degree_centrality(meeting_graph)"
   ]
  },
  {
   "cell_type": "code",
   "execution_count": null,
   "metadata": {
    "collapsed": false
   },
   "outputs": [],
   "source": [
    "# Following are the betweenness centrality vlaues for the Meetings.\n",
    "nx.betweenness_centrality(meeting_graph)"
   ]
  },
  {
   "cell_type": "code",
   "execution_count": null,
   "metadata": {
    "collapsed": false
   },
   "outputs": [],
   "source": [
    "# Following are the closeness centrality vlaues for the Meetings.\n",
    "nx.closeness_centrality(meeting_graph)"
   ]
  },
  {
   "cell_type": "code",
   "execution_count": null,
   "metadata": {
    "collapsed": true
   },
   "outputs": [],
   "source": []
  }
 ],
 "metadata": {
  "anaconda-cloud": {},
  "kernelspec": {
   "display_name": "Python [conda root]",
   "language": "python",
   "name": "conda-root-py"
  },
  "language_info": {
   "codemirror_mode": {
    "name": "ipython",
    "version": 2
   },
   "file_extension": ".py",
   "mimetype": "text/x-python",
   "name": "python",
   "nbconvert_exporter": "python",
   "pygments_lexer": "ipython2",
   "version": "2.7.12"
  }
 },
 "nbformat": 4,
 "nbformat_minor": 1
}
