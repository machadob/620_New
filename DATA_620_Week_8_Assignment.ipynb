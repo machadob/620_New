{
 "cells": [
  {
   "cell_type": "code",
   "execution_count": 1,
   "metadata": {
    "collapsed": true
   },
   "outputs": [],
   "source": [
    "from nltk.probability import FreqDist\n",
    "from collections import Counter\n",
    "from nltk import word_tokenize\n",
    "import nltk\n",
    "from nltk.corpus import gutenberg\n",
    "import urllib\n",
    "import matplotlib.pyplot as plt"
   ]
  },
  {
   "cell_type": "code",
   "execution_count": 2,
   "metadata": {
    "collapsed": true
   },
   "outputs": [],
   "source": [
    "# 1)\n",
    "# Our corpus will consist of one book from the gutenberg collection.\n",
    "# The book is \"Alice's Adventures in Wonderland\" by Lewis Carroll.\n",
    "url = \"http://www.gutenberg.org/files/53327/53327-0.txt\"\n",
    "response = urllib.urlopen(url)\n",
    "raw = response.read().decode('utf8')\n",
    "tokens = word_tokenize(raw)\n",
    "text = nltk.Text(tokens)\n",
    "counts = Counter(tokens)"
   ]
  },
  {
   "cell_type": "code",
   "execution_count": 3,
   "metadata": {
    "collapsed": false
   },
   "outputs": [
    {
     "name": "stdout",
     "output_type": "stream",
     "text": [
      "The total unique words in the corpus are 9012\n"
     ]
    }
   ],
   "source": [
    "# 2)\n",
    "# Total unique words in the corpus.\n",
    "print(\"The total unique words in the corpus are \" + str(len(set(tokens))))"
   ]
  },
  {
   "cell_type": "code",
   "execution_count": 28,
   "metadata": {
    "collapsed": false
   },
   "outputs": [
    {
     "name": "stdout",
     "output_type": "stream",
     "text": [
      "We have about 69 that add up to 34398\n"
     ]
    }
   ],
   "source": [
    "# 3)\n",
    "print(\"The total number words in the corpus = \" + str(len(tokens)))\n",
    "# Since the total number words in the corpus is 68763, We will take the counts for each unique word starting from \n",
    "# most common to the least and add them until we reach or surpass half the total number of words which is 34381 ( or 68763/2).\n",
    "\n",
    "fd = nltk.FreqDist(tokens)\n",
    "list_of_word_counts = fd.most_common(len(set(tokens)))\n",
    "list_of_word_counts[0][1] + list_of_word_counts[1][1] + list_of_word_counts[2][1]\n",
    "quit_loop = False\n",
    "total_count = 0\n",
    "total_words = 0\n",
    "for word in list_of_word_counts:\n",
    "    total_count = total_count + word[1]\n",
    "    total_words += 1\n",
    "    if total_count >= len(tokens)/2:\n",
    "        break\n",
    "print(\"We have about \" + str(total_words) + \" that add up to \" + str(count))"
   ]
  },
  {
   "cell_type": "code",
   "execution_count": 31,
   "metadata": {
    "collapsed": false
   },
   "outputs": [
    {
     "data": {
      "text/plain": [
       "[(u'the', 4307),\n",
       " (u'.', 3029),\n",
       " (u',', 2377),\n",
       " (u'of', 2252),\n",
       " (u'to', 1704),\n",
       " (u'and', 1600),\n",
       " (u'a', 1380),\n",
       " (u'in', 954),\n",
       " (u'that', 914),\n",
       " (u'was', 840),\n",
       " (u'had', 802),\n",
       " (u'we', 618),\n",
       " (u'I', 559),\n",
       " (u'for', 524),\n",
       " (u'The', 478),\n",
       " (u'were', 441),\n",
       " (u'our', 424),\n",
       " (u'as', 418),\n",
       " (u'not', 413),\n",
       " (u'be', 396),\n",
       " (u'with', 388),\n",
       " (u'his', 370),\n",
       " (u'is', 360),\n",
       " (u'he', 350),\n",
       " (u'but', 343),\n",
       " (u'it', 340),\n",
       " (u'from', 322),\n",
       " (u'We', 311),\n",
       " (u'at', 297),\n",
       " (u'have', 288),\n",
       " (u'been', 280),\n",
       " (u'on', 274),\n",
       " (u'by', 247),\n",
       " (u'us', 234),\n",
       " (u'which', 233),\n",
       " (u'their', 227),\n",
       " (u'an', 221),\n",
       " (u'her', 214),\n",
       " (u'into', 214),\n",
       " (u'or', 202),\n",
       " (u'they', 185),\n",
       " (u'she', 182),\n",
       " (u'one', 179),\n",
       " (u'It', 176),\n",
       " (u'my', 174),\n",
       " (u'there', 163),\n",
       " (u'\\u201d', 160),\n",
       " (u'this', 154),\n",
       " (u'you', 153),\n",
       " (u'Hori', 151),\n",
       " (u'would', 151),\n",
       " (u'when', 150),\n",
       " (u'so', 149),\n",
       " (u'all', 149),\n",
       " (u'such', 144),\n",
       " (u'--', 143),\n",
       " (u'no', 142),\n",
       " (u'up', 141),\n",
       " (u'if', 141),\n",
       " (u'out', 141),\n",
       " (u'could', 138),\n",
       " (u'are', 135),\n",
       " (u'some', 132),\n",
       " (u'He', 126),\n",
       " (u'then', 123),\n",
       " (u'any', 122),\n",
       " (u'inn', 121),\n",
       " (u'its', 114),\n",
       " (u'Japanese', 114),\n",
       " (u'said', 113),\n",
       " (u'should', 109),\n",
       " (u'She', 108),\n",
       " (u'over', 106),\n",
       " (u'through', 104),\n",
       " (u'down', 101),\n",
       " (u'may', 97),\n",
       " (u'came', 95),\n",
       " (u'about', 95),\n",
       " (u'time', 93),\n",
       " (u'has', 90),\n",
       " (u'before', 90),\n",
       " (u'them', 89),\n",
       " (u'O-Owre-san', 89),\n",
       " (u'more', 88),\n",
       " (u'him', 88),\n",
       " (u'two', 88),\n",
       " (u';', 86),\n",
       " (u'back', 86),\n",
       " (u'other', 86),\n",
       " (u'might', 85),\n",
       " (u'They', 84),\n",
       " (u'Project', 84),\n",
       " (u'?', 84),\n",
       " (u'did', 82),\n",
       " (u'can', 81),\n",
       " (u'under', 80),\n",
       " (u'In', 80),\n",
       " (u'than', 79),\n",
       " (u'upon', 78),\n",
       " (u'must', 78),\n",
       " (u'me', 78),\n",
       " (u'long', 77),\n",
       " (u'until', 76),\n",
       " (u'who', 75),\n",
       " (u'do', 74),\n",
       " (u'very', 73),\n",
       " (u'first', 71),\n",
       " (u'asked', 69),\n",
       " (u'When', 69),\n",
       " (u'what', 69),\n",
       " (u'along', 68),\n",
       " (u'again', 68),\n",
       " (u'world', 67),\n",
       " (u'come', 66),\n",
       " (u'will', 66),\n",
       " (u'A', 65),\n",
       " (u':', 65),\n",
       " (u'against', 65),\n",
       " (u'most', 64),\n",
       " (u'found', 63),\n",
       " (u'man', 63),\n",
       " (u'There', 62),\n",
       " (u'eyes', 62),\n",
       " (u'road', 62),\n",
       " (u'only', 61),\n",
       " (u'Japan', 61),\n",
       " (u'If', 61),\n",
       " (u'see', 60),\n",
       " (u'(', 60),\n",
       " (u'room', 60),\n",
       " (u'day', 60),\n",
       " (u')', 60),\n",
       " (u'without', 60),\n",
       " (u'made', 60),\n",
       " (u'old', 59),\n",
       " (u'work', 59),\n",
       " (u'!', 59),\n",
       " (u'after', 58),\n",
       " (u'never', 57),\n",
       " (u'those', 57),\n",
       " (u'away', 56),\n",
       " (u'thought', 56),\n",
       " (u'now', 55),\n",
       " (u'find', 55),\n",
       " (u'Gutenberg-tm', 55),\n",
       " (u'where', 54),\n",
       " (u'*', 54),\n",
       " (u'brought', 53),\n",
       " (u'much', 53),\n",
       " (u'way', 53),\n",
       " (u'water', 53),\n",
       " (u'being', 52),\n",
       " (u'off', 52),\n",
       " (u'another', 52),\n",
       " (u'even', 52),\n",
       " (u'walked', 51),\n",
       " (u'little', 51),\n",
       " (u'own', 51),\n",
       " (u'sat', 50),\n",
       " (u'told', 49),\n",
       " (u'Our', 48),\n",
       " (u'maid', 48),\n",
       " (u'tea', 48),\n",
       " (u'days', 47),\n",
       " (u'left', 45),\n",
       " (u'life', 44),\n",
       " (u'many', 44),\n",
       " (u'night', 44),\n",
       " (u'last', 44),\n",
       " (u'As', 43),\n",
       " (u'moment', 43),\n",
       " (u'This', 43),\n",
       " (u'began', 42),\n",
       " (u'around', 41),\n",
       " (u'door', 41),\n",
       " (u'always', 41),\n",
       " (u'foreign', 41),\n",
       " (u'After', 41),\n",
       " (u'rice', 39),\n",
       " (u'new', 39),\n",
       " (u'just', 39),\n",
       " (u'Then', 38),\n",
       " (u'ever', 38),\n",
       " (u'foreigners', 38),\n",
       " (u'every', 38),\n",
       " (u'few', 38),\n",
       " (u'having', 37),\n",
       " (u'does', 37),\n",
       " (u'went', 37),\n",
       " (u'morning', 37),\n",
       " (u'how', 36),\n",
       " (u'take', 36),\n",
       " (u'path', 36),\n",
       " (u'saw', 35),\n",
       " (u'foreigner', 35),\n",
       " (u'full', 35),\n",
       " (u'feet', 35),\n",
       " (u'THE', 35),\n",
       " (u'knew', 34),\n",
       " (u'seemed', 34)]"
      ]
     },
     "execution_count": 31,
     "metadata": {},
     "output_type": "execute_result"
    }
   ],
   "source": [
    "# 4)\n",
    "# Following are the 200 highest frequency words in the corpus along with their frequencies.\n",
    "fd.most_common(len(set(tokens)))[0:200]"
   ]
  },
  {
   "cell_type": "code",
   "execution_count": 33,
   "metadata": {
    "collapsed": true
   },
   "outputs": [],
   "source": []
  },
  {
   "cell_type": "code",
   "execution_count": 36,
   "metadata": {
    "collapsed": false
   },
   "outputs": [
    {
     "data": {
      "image/png": "[encoded data removed]",
      "text/plain": [
       "<matplotlib.figure.Figure at 0x1160486d0>"
      ]
     },
     "metadata": {},
     "output_type": "display_data"
    }
   ],
   "source": [
    "# 5) \n",
    "# We will create a graph that shows the relative frequency of these 200 words.\n",
    "values = [] \n",
    "keys = []\n",
    "for key in counts.keys():\n",
    "  keys.append(key)\n",
    "  values.append(counts[key])\n",
    "values.sort(reverse=True)\n",
    "values\n",
    "fd = nltk.FreqDist(tokens)\n",
    "values.sort(reverse=True)\n",
    "values\n",
    "freq_values = values[0:200]\n",
    "fig = plt.figure()\n",
    "ax = fig.add_subplot(111)\n",
    "n, bins, patches = ax.hist(freq_values, bins=100, normed=1, cumulative=0)\n",
    "ax.set_xlabel('Bins', size=20)\n",
    "ax.set_ylabel('Frequency', size=20)\n",
    "ax.legend\n",
    "plt.show()"
   ]
  },
  {
   "cell_type": "code",
   "execution_count": null,
   "metadata": {
    "collapsed": true
   },
   "outputs": [],
   "source": [
    "# 6)\n",
    "# Zipf's law states that given some corpus of natural language utterances, \n",
    "# the frequency of any word is inversely proportional to its rank in the frequency table\n",
    "# From the graph it looks like the Zipf's law is approximately followed. If we take a corpus large enough,\n",
    "# it may converge in the limit to more closely follow Zipf's law."
   ]
  },
  {
   "cell_type": "code",
   "execution_count": null,
   "metadata": {
    "collapsed": true
   },
   "outputs": [],
   "source": [
    "# 7)\n",
    "# The frequency of the words in  this corpus can be looked upon like an approximation to the frequency of\n",
    "# “all words in all corpora.” So this corpus can be viewed as the \"sample\" and all corpora could be viewed as\n",
    "# population."
   ]
  }
 ],
 "metadata": {
  "anaconda-cloud": {},
  "kernelspec": {
   "display_name": "Python [conda root]",
   "language": "python",
   "name": "conda-root-py"
  },
  "language_info": {
   "codemirror_mode": {
    "name": "ipython",
    "version": 2
   },
   "file_extension": ".py",
   "mimetype": "text/x-python",
   "name": "python",
   "nbconvert_exporter": "python",
   "pygments_lexer": "ipython2",
   "version": "2.7.12"
  }
 },
 "nbformat": 4,
 "nbformat_minor": 1
}
