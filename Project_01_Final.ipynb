{
 "cells": [
  {
   "cell_type": "code",
   "execution_count": 6,
   "metadata": {
    "collapsed": false
   },
   "outputs": [
    {
     "name": "stdout",
     "output_type": "stream",
     "text": [
      "attrMajor size : 270970\n"
     ]
    }
   ],
   "source": [
    "\n",
    "#The data set can be downloaded from the following link:\n",
    "# https://drive.google.com/file/d/0B5ok9oCZslVoYXVDM1hUakhRWWM/view?usp=sharing\n",
    "\n",
    "# Please download the data and unzip into the curret=nt directory.\n",
    "\n",
    "#Please look at the following link for the explantion of the dataset.\n",
    "# https://raw.githubusercontent.com/machadob/DATA_620_Web_Analytics/master/DATA_620_Assignment_04\n",
    "\n",
    "# We will be scrubbing the dowmloaded datasets, using python, to get the nodes, edges and the attributes.\n",
    "# The way the files are formatted is very raw and we will have to process, restructure the data and clean it before we can load it into a graph network.\n",
    "# We will also need to truncate the data if it seems too large to fit into memory.\n",
    "#\n",
    "# We have many categorical variables in this data set.\n",
    "# The hypothetical outcome is a prediction that students who have marketing as their major will have a higher degree of centrality than students with other majors.\n",
    "# This is based on  the observation that people in marketing tend to be more adept at making new contacts and also tend to become leaders.\n",
    "# We will check if this hypothesis is true or not.\n",
    "\n",
    "# We will first filter out the people in Marketing and Engineering and treat them as two seperate networks.\n",
    "#Marketing has a attribute of -13 and Engineering is -11\n",
    "# The file direct_social_structure.txt in the dataset has the node to node connections. Each line in that\n",
    "# file has two entries specifying the nodes that are connected. The file is 8GB in size and has 462994069 entries.\n",
    "# We will truncate the file and use the first 10000 entries for our analysis.\n",
    "\n",
    "from sets import Set\n",
    "import networkx as nx\n",
    "import io\n",
    "from matplotlib import pyplot as plt\n",
    "import numpy as np\n",
    "import pandas as pd\n",
    "\n",
    "#Download and unzip the dataset to the baseDir. Set the baseDir according to your machine.\n",
    "baseDir = '/Users/burton/000-Semester_06_CUNY/620_Web_Analytics/Week_04/imc12/'\n",
    "\n",
    "#We will be creating intermidiate files to clean and process the datasets.\n",
    "\n",
    "# The function below will truncate the inFile to numberOfLines and write it to outFile\n",
    "def truncateFile(inFile, outFile,  numberOfLines):\n",
    "    fOutFile = open(outFile,'w')\n",
    "    lineCount = 0\n",
    "    with open(inFile) as fInFile:\n",
    "        for line in fInFile:\n",
    "            fOutFile.write(line)\n",
    "            lineCount = lineCount + 1\n",
    "            if(lineCount >= numberOfLines):\n",
    "                break\n",
    "    fOutFile.close() # you can omit in most cases as the destructor will call it\n",
    "\n",
    "inFile = baseDir + 'direct_social_structure.txt'\n",
    "outfile = baseDir + 'relations.txt'\n",
    "truncateFile(inFile, outfile, 10000)\n",
    "\n",
    "# We will now extract the ids for the 'major' attribute for all nodes.\n",
    "attrMajor = []\n",
    "with open(baseDir + 'attri_type.txt') as fInFile:\n",
    "    for line in fInFile:\n",
    "        if(line.__contains__('major')):\n",
    "            tokens = line.split(' ')\n",
    "            attrMajor.append(tokens[0])\n",
    "            # print(tokens[0])\n",
    "# print(attrMajor)\n",
    "print(\"attrMajor size : \" +  str(attrMajor.__len__()))\n",
    "\n"
   ]
  },
  {
   "cell_type": "code",
   "execution_count": 7,
   "metadata": {
    "collapsed": false
   },
   "outputs": [
    {
     "name": "stdout",
     "output_type": "stream",
     "text": [
      "-13 \"marketing\"\n",
      "\n",
      "-13\n",
      "-437 \"marketing and information systems\"\n",
      "\n",
      "-437\n",
      "-1450 \"marketing management\"\n",
      "\n",
      "-1450\n",
      "-2814 \"marketing & finance\"\n",
      "\n",
      "-2814\n",
      "-4017 \"marketing / internet development\"\n",
      "\n",
      "-4017\n",
      "-4860 \"marketing and technological innovation\"\n",
      "\n",
      "-4860\n",
      "-6247 \"marketing, services and communication management\"\n",
      "\n",
      "-6247\n",
      "-7503 \"marketing and management\"\n",
      "\n",
      "-7503\n",
      "-7569 \"marketing / entertainment, media & technology\"\n",
      "\n",
      "-7569\n",
      "-7659 \"marketing / systems\"\n",
      "\n",
      "-7659\n",
      "['-13', '-437', '-1450', '-2814', '-4017', '-4860', '-6247', '-7503', '-7569', '-7659']\n"
     ]
    }
   ],
   "source": [
    "# Grab all the ids for 'marketing' majors from the attribute dictionary using the previously saved ids for the majors.\n",
    "marketing_nodes = []\n",
    "MAX_NODES = 10\n",
    "nodeCount = 0\n",
    "with open(baseDir + 'attri_dic.txt') as fInFile:\n",
    "    for line in fInFile:\n",
    "        tokens = line.split(' ')\n",
    "        if tokens[0] in attrMajor:\n",
    "            # print(line)\n",
    "            if(tokens[1].lower().__contains__(\"marketing\")):\n",
    "                print(line)\n",
    "                print(tokens[0])\n",
    "                marketing_nodes.append(tokens[0])\n",
    "                nodeCount = nodeCount + 1\n",
    "                if(nodeCount >= MAX_NODES):\n",
    "                    break\n",
    "print(marketing_nodes)\n"
   ]
  },
  {
   "cell_type": "code",
   "execution_count": 8,
   "metadata": {
    "collapsed": false
   },
   "outputs": [
    {
     "name": "stdout",
     "output_type": "stream",
     "text": [
      "-11 \"engineering\"\n",
      "\n",
      "-3675 \"engineering and industrial technology\"\n",
      "\n",
      "-3755 \"engineering, computer science\"\n",
      "\n",
      "-3838 \"engineering management\"\n",
      "\n",
      "-4688 \"engineering-graduation\"\n",
      "\n",
      "-6391 \"bioengineering\"\n",
      "\n",
      "-6599 \"engineering science\"\n",
      "\n",
      "-6732 \"bioengineering: biotechnology\"\n",
      "\n",
      "-7238 \"engineering physics\"\n",
      "\n",
      "-7454 \"engineering, management, public policy\"\n",
      "\n",
      "['-11', '-3675', '-3755', '-3838', '-4688', '-6391', '-6599', '-6732', '-7238', '-7454']\n"
     ]
    }
   ],
   "source": [
    "# Grab all the ids for 'engineering' majors from the attribute dictionary using the previously saved ids for the majors.\n",
    "engineering_nodes = []\n",
    "nodeCount = 0\n",
    "with open(baseDir + 'attri_dic.txt') as fInFile:\n",
    "    for line in fInFile:\n",
    "        tokens = line.split(' ')\n",
    "        if tokens[0] in attrMajor:\n",
    "            # print(line)\n",
    "            if(tokens[1].lower().__contains__(\"engineering\")):\n",
    "                print(line)\n",
    "                # print(tokens[0])\n",
    "                engineering_nodes.append(tokens[0])\n",
    "                nodeCount = nodeCount + 1\n",
    "                if(nodeCount >= MAX_NODES):\n",
    "                    break\n",
    "print(engineering_nodes)\n",
    "\n"
   ]
  },
  {
   "cell_type": "code",
   "execution_count": 9,
   "metadata": {
    "collapsed": false
   },
   "outputs": [
    {
     "name": "stdout",
     "output_type": "stream",
     "text": [
      "-13 \"marketing\"\n",
      "\n",
      "-13\n",
      "-437 \"marketing and information systems\"\n",
      "\n",
      "-437\n",
      "-1450 \"marketing management\"\n",
      "\n",
      "-1450\n",
      "-2814 \"marketing & finance\"\n",
      "\n",
      "-2814\n",
      "-4017 \"marketing / internet development\"\n",
      "\n",
      "-4017\n",
      "-4860 \"marketing and technological innovation\"\n",
      "\n",
      "-4860\n",
      "-6247 \"marketing, services and communication management\"\n",
      "\n",
      "-6247\n",
      "-7503 \"marketing and management\"\n",
      "\n",
      "-7503\n",
      "-7569 \"marketing / entertainment, media & technology\"\n",
      "\n",
      "-7569\n",
      "-7659 \"marketing / systems\"\n",
      "\n",
      "-7659\n",
      "['-13', '-437', '-1450', '-2814', '-4017', '-4860', '-6247', '-7503', '-7569', '-7659']\n"
     ]
    }
   ],
   "source": [
    "# Grab all the ids for 'marketing' majors from the attribute dictionary using the previously saved ids for the majors.\n",
    "marketing_nodes = []\n",
    "MAX_NODES = 10\n",
    "nodeCount = 0\n",
    "with open(baseDir + 'attri_dic.txt') as fInFile:\n",
    "    for line in fInFile:\n",
    "        tokens = line.split(' ')\n",
    "        if tokens[0] in attrMajor:\n",
    "            # print(line)\n",
    "            if(tokens[1].lower().__contains__(\"marketing\")):\n",
    "                print(line)\n",
    "                print(tokens[0])\n",
    "                marketing_nodes.append(tokens[0])\n",
    "                nodeCount = nodeCount + 1\n",
    "                if(nodeCount >= MAX_NODES):\n",
    "                    break\n",
    "print(marketing_nodes)\n"
   ]
  },
  {
   "cell_type": "code",
   "execution_count": 10,
   "metadata": {
    "collapsed": false
   },
   "outputs": [
    {
     "name": "stdout",
     "output_type": "stream",
     "text": [
      "100\n"
     ]
    }
   ],
   "source": [
    "#Grab all the marketing nodes from the node-attributes (node_attri.txt) mapping file and marketing_nodes previosly created\n",
    "marketing_node_ids = []\n",
    "nodeCount = 0\n",
    "with open(baseDir + 'node_attri.txt') as fInFile:\n",
    "    for line in fInFile:\n",
    "        if(nodeCount >= 100):\n",
    "            break\n",
    "        tokens = line.split(' ')\n",
    "        if tokens[1] in marketing_nodes:\n",
    "            marketing_node_ids.append(tokens[0])\n",
    "            nodeCount = nodeCount + 1\n",
    "\n",
    "            # print(tokens[0])\n",
    "            # print(line)\n",
    "unique_marketing_node_ids = Set(marketing_node_ids)\n",
    "print(len(unique_marketing_node_ids))\n"
   ]
  },
  {
   "cell_type": "code",
   "execution_count": 11,
   "metadata": {
    "collapsed": false
   },
   "outputs": [
    {
     "name": "stdout",
     "output_type": "stream",
     "text": [
      "100\n"
     ]
    }
   ],
   "source": [
    "#Grab all the engineering nodes from the node-attributes (node_attri.txt) mapping file and engineering_nodes previosly created\n",
    "engineering_node_ids = []\n",
    "nodeCount = 0\n",
    "with open(baseDir + 'node_attri.txt') as fInFile:\n",
    "    for line in fInFile:\n",
    "        if(nodeCount >= 100):\n",
    "            break\n",
    "        tokens = line.split(' ')\n",
    "        if tokens[1] in engineering_nodes:\n",
    "            engineering_node_ids.append(tokens[0])\n",
    "            nodeCount = nodeCount + 1\n",
    "            # print(tokens[0])\n",
    "unique_engineering_node_ids = Set(engineering_node_ids)\n",
    "print(len(unique_engineering_node_ids))\n"
   ]
  },
  {
   "cell_type": "code",
   "execution_count": null,
   "metadata": {
    "collapsed": false
   },
   "outputs": [],
   "source": [
    "# Write out the filtered marketing nodes to the file filtered_marketing_network.txt\n",
    "# and the filtered engineering nodes to the file filtered_engineering_network.txt\n",
    "fOutMarketing = open(baseDir + 'filtered_marketing_network.txt' ,'w')\n",
    "fOutEngineering = open(baseDir + 'filtered_engineering_network.txt' ,'w')\n",
    "with open(baseDir + 'direct_social_structure.txt') as fInFile:\n",
    "    for line in fInFile:\n",
    "        tokens = line.split(' ')\n",
    "        if tokens[0] in unique_marketing_node_ids:\n",
    "            fOutMarketing.write(line)\n",
    "        if tokens[0] in unique_engineering_node_ids:\n",
    "            fOutEngineering.write(line)\n",
    "fOutMarketing.close()\n",
    "fOutEngineering.close()\n",
    "\n",
    "\n"
   ]
  },
  {
   "cell_type": "code",
   "execution_count": 13,
   "metadata": {
    "collapsed": false
   },
   "outputs": [
    {
     "name": "stdout",
     "output_type": "stream",
     "text": [
      "0.000316701134323\n",
      "0.00035656635195\n"
     ]
    }
   ],
   "source": [
    "# We will load a network graphs of Marketing and Engineering people\n",
    "marketing_graph = nx.read_weighted_edgelist(baseDir + 'filtered_marketing_network.txt', delimiter=' ', create_using=nx.DiGraph())\n",
    "engineering_graph = nx.read_weighted_edgelist(baseDir + 'filtered_engineering_network.txt', delimiter=' ', create_using=nx.DiGraph())\n",
    "\n",
    "degreeCentrality_Marketing = nx.degree_centrality(marketing_graph)\n",
    "degreeCentrality_Engineering = nx.degree_centrality(engineering_graph)\n",
    "print(np.mean(degreeCentrality_Marketing.values()))\n",
    "print(np.mean(degreeCentrality_Engineering.values()))\n",
    "count_marketing = len(degreeCentrality_Marketing.values())\n",
    "count_engineering = len(degreeCentrality_Engineering.values())\n",
    "\n"
   ]
  },
  {
   "cell_type": "code",
   "execution_count": 14,
   "metadata": {
    "collapsed": false
   },
   "outputs": [
    {
     "name": "stdout",
     "output_type": "stream",
     "text": [
      "4.06589430309e-06\n",
      "0.0\n",
      "0.0\n"
     ]
    }
   ],
   "source": [
    "#We will see if the differences in the mean of the degree centrality is significant.\n",
    "# Null hypothesis (H0): There is no significant differences in the means of Marketing and Engineering people.\n",
    "\n",
    "# Null hypothesis (HA): There is a significant difference in the means of Marketing and Engineering people.\n",
    "\n",
    "mean_DegreeCentrality_Marketing = np.mean(degreeCentrality_Marketing.values())\n",
    "mean_DegreeCentrality_Engineering = np.mean(degreeCentrality_Engineering.values())\n",
    "mean_difference = mean_DegreeCentrality_Marketing - mean_DegreeCentrality_Engineering\n",
    "\n",
    "variance_DegreeCentrality_Marketing = np.var(degreeCentrality_Marketing.values())\n",
    "variance_DegreeCentrality_Engineering = np.var(degreeCentrality_Engineering.values())\n",
    "\n",
    "#We will take the average of both the variances for the t test\n",
    "average_variance  = (variance_DegreeCentrality_Marketing + variance_DegreeCentrality_Engineering)/2\n",
    "print(average_variance)\n",
    "# sample_size =\n",
    "standard_error = (2*average_variance/len(degreeCentrality_Marketing.values()))**.5\n",
    "#\n",
    "t = ((mean_DegreeCentrality_Marketing - mean_DegreeCentrality_Engineering) - 0)/standard_error\n",
    "\n",
    "# The t value comes out to -1.2 with degrees of freedom greater than 5000 (essentially infinite)\n",
    "# The p value is 0.2 which is much greater than 0.05, so we do not reject the null hypothesis\n",
    "\n",
    "eigenvectorCentrality_Marketing = nx.eigenvector_centrality(marketing_graph)\n",
    "eigenvectorCentrality_Engineering = nx.eigenvector_centrality(engineering_graph)\n",
    "print(np.mean(eigenvectorCentrality_Marketing.values()))\n",
    "print(np.mean(eigenvectorCentrality_Engineering.values()))\n",
    "\n",
    "#There is no differeneces between the eigenvector centrality of the two groups, so we do not need a t test to proove that.\n",
    "\n",
    "# In conclusion, we did not find any significant differences between the Marketing and Engineering groups in terms of Degree Centrality and\n",
    "# Eigenvector centrality\n",
    "\n"
   ]
  },
  {
   "cell_type": "code",
   "execution_count": null,
   "metadata": {
    "collapsed": true
   },
   "outputs": [],
   "source": []
  }
 ],
 "metadata": {
  "anaconda-cloud": {},
  "kernelspec": {
   "display_name": "Python [conda root]",
   "language": "python",
   "name": "conda-root-py"
  },
  "language_info": {
   "codemirror_mode": {
    "name": "ipython",
    "version": 2
   },
   "file_extension": ".py",
   "mimetype": "text/x-python",
   "name": "python",
   "nbconvert_exporter": "python",
   "pygments_lexer": "ipython2",
   "version": "2.7.12"
  }
 },
 "nbformat": 4,
 "nbformat_minor": 1
}
